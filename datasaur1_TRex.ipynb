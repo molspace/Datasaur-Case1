{
 "cells": [
  {
   "cell_type": "code",
   "execution_count": 1,
   "metadata": {},
   "outputs": [],
   "source": [
    "import pandas as pd\n",
    "import numpy as np\n",
    "import matplotlib.pyplot as plt\n",
    "from sklearn.feature_extraction.text import TfidfVectorizer\n",
    "from sklearn.neighbors import KDTree\n",
    "from tqdm import tqdm"
   ]
  },
  {
   "cell_type": "code",
   "execution_count": 2,
   "metadata": {},
   "outputs": [],
   "source": [
    "articles = pd.read_csv('/home/bakhyt/Documents/datasaur/case1-datasaur/epir_train/articles.csv')\n",
    "ls = pd.read_csv('/home/bakhyt/Documents/datasaur/case1-datasaur/epir_train/life_situations.csv')\n",
    "news = pd.read_csv('/home/bakhyt/Documents/datasaur/case1-datasaur/epir_train/news.csv')\n",
    "services = pd.read_csv('/home/bakhyt/Documents/datasaur/case1-datasaur/epir_train/services.csv')\n",
    "ssub = pd.read_csv('/home/bakhyt/Documents/datasaur/case1-datasaur/epir_sample_submission.csv')\n",
    "test = pd.read_csv('/home/bakhyt/Documents/datasaur/case1-datasaur/epir_test.csv')"
   ]
  },
  {
   "cell_type": "code",
   "execution_count": 3,
   "metadata": {},
   "outputs": [],
   "source": [
    "base = list()\n",
    "base += list(ls[['Unnamed: 0', 'title_main']].values)\n",
    "base += list(services[['Unnamed: 0', 'full_title']].values)\n",
    "\n",
    "df = pd.DataFrame(base)\n",
    "df.columns = ['index', 'text']\n",
    "df = df.dropna(subset='text')\n",
    "df = df.loc[df['text'].str.split(' ').apply(lambda x: len(x)) > 1].reset_index(drop=True)"
   ]
  },
  {
   "cell_type": "code",
   "execution_count": 4,
   "metadata": {},
   "outputs": [],
   "source": [
    "vectorizer = TfidfVectorizer(analyzer='char', ngram_range=(4,4))\n",
    "X = vectorizer.fit_transform(df['text']).toarray()\n",
    "tree = KDTree(X, leaf_size=30)"
   ]
  },
  {
   "cell_type": "code",
   "execution_count": 7,
   "metadata": {},
   "outputs": [],
   "source": [
    "query = vectorizer.transform(['Эмиссия в окружающую среду'])"
   ]
  },
  {
   "cell_type": "code",
   "execution_count": 8,
   "metadata": {},
   "outputs": [],
   "source": [
    "dist, ind = tree.query(query.toarray(), k=30)  "
   ]
  },
  {
   "cell_type": "code",
   "execution_count": null,
   "metadata": {},
   "outputs": [],
   "source": [
    "df.loc[ind[0]]"
   ]
  },
  {
   "cell_type": "code",
   "execution_count": 12,
   "metadata": {},
   "outputs": [
    {
     "data": {
      "text/html": [
       "<div>\n",
       "<style scoped>\n",
       "    .dataframe tbody tr th:only-of-type {\n",
       "        vertical-align: middle;\n",
       "    }\n",
       "\n",
       "    .dataframe tbody tr th {\n",
       "        vertical-align: top;\n",
       "    }\n",
       "\n",
       "    .dataframe thead th {\n",
       "        text-align: right;\n",
       "    }\n",
       "</style>\n",
       "<table border=\"1\" class=\"dataframe\">\n",
       "  <thead>\n",
       "    <tr style=\"text-align: right;\">\n",
       "      <th></th>\n",
       "      <th>Unnamed: 0</th>\n",
       "      <th>id</th>\n",
       "      <th>sys_lang</th>\n",
       "      <th>additional_info</th>\n",
       "      <th>description</th>\n",
       "      <th>full_title</th>\n",
       "      <th>short_title</th>\n",
       "      <th>title</th>\n",
       "      <th>result_description</th>\n",
       "      <th>url</th>\n",
       "    </tr>\n",
       "  </thead>\n",
       "  <tbody>\n",
       "    <tr>\n",
       "      <th>1444</th>\n",
       "      <td>1444</td>\n",
       "      <td>3700</td>\n",
       "      <td>ru</td>\n",
       "      <td>Правила оказания государственной услуги</td>\n",
       "      <td>Информация находится на стадии актуализации. Э...</td>\n",
       "      <td>Выдача разрешений на эмиссии в окружающую сред...</td>\n",
       "      <td>Разрешения на эмиссии в окружающую среду для о...</td>\n",
       "      <td>Разрешения на эмиссии в окружающую среду для о...</td>\n",
       "      <td>Разрешение, переоформление разрешения на эмисс...</td>\n",
       "      <td>https://beta2.egov.kz/services/3700?lang=ru</td>\n",
       "    </tr>\n",
       "  </tbody>\n",
       "</table>\n",
       "</div>"
      ],
      "text/plain": [
       "      Unnamed: 0    id sys_lang                          additional_info  \\\n",
       "1444        1444  3700       ru  Правила оказания государственной услуги   \n",
       "\n",
       "                                            description  \\\n",
       "1444  Информация находится на стадии актуализации. Э...   \n",
       "\n",
       "                                             full_title  \\\n",
       "1444  Выдача разрешений на эмиссии в окружающую сред...   \n",
       "\n",
       "                                            short_title  \\\n",
       "1444  Разрешения на эмиссии в окружающую среду для о...   \n",
       "\n",
       "                                                  title  \\\n",
       "1444  Разрешения на эмиссии в окружающую среду для о...   \n",
       "\n",
       "                                     result_description  \\\n",
       "1444  Разрешение, переоформление разрешения на эмисс...   \n",
       "\n",
       "                                              url  \n",
       "1444  https://beta2.egov.kz/services/3700?lang=ru  "
      ]
     },
     "execution_count": 12,
     "metadata": {},
     "output_type": "execute_result"
    }
   ],
   "source": [
    "services.loc[services['Unnamed: 0']==1444]"
   ]
  },
  {
   "cell_type": "code",
   "execution_count": 5,
   "metadata": {},
   "outputs": [
    {
     "name": "stderr",
     "output_type": "stream",
     "text": [
      "124it [00:25,  4.78it/s]\n"
     ]
    }
   ],
   "source": [
    "ans = list()\n",
    "for idx,row in tqdm(test.iterrows()):\n",
    "    \n",
    "    check = vectorizer.transform([row['question']])\n",
    "    dist, ind = tree.query(check.toarray(), k=30)  \n",
    "    \n",
    "    vv = df.loc[ind[0],'index'].values[0]\n",
    "    ans.append(vv)\n",
    "    \n",
    "ssub['index'] = ans\n",
    "ssub.to_csv('submission`7.csv', index=False)"
   ]
  },
  {
   "cell_type": "code",
   "execution_count": 6,
   "metadata": {},
   "outputs": [
    {
     "data": {
      "text/html": [
       "<div>\n",
       "<style scoped>\n",
       "    .dataframe tbody tr th:only-of-type {\n",
       "        vertical-align: middle;\n",
       "    }\n",
       "\n",
       "    .dataframe tbody tr th {\n",
       "        vertical-align: top;\n",
       "    }\n",
       "\n",
       "    .dataframe thead th {\n",
       "        text-align: right;\n",
       "    }\n",
       "</style>\n",
       "<table border=\"1\" class=\"dataframe\">\n",
       "  <thead>\n",
       "    <tr style=\"text-align: right;\">\n",
       "      <th></th>\n",
       "      <th>id</th>\n",
       "      <th>index</th>\n",
       "    </tr>\n",
       "  </thead>\n",
       "  <tbody>\n",
       "    <tr>\n",
       "      <th>0</th>\n",
       "      <td>1</td>\n",
       "      <td>2049</td>\n",
       "    </tr>\n",
       "    <tr>\n",
       "      <th>1</th>\n",
       "      <td>2</td>\n",
       "      <td>392</td>\n",
       "    </tr>\n",
       "    <tr>\n",
       "      <th>2</th>\n",
       "      <td>3</td>\n",
       "      <td>203089</td>\n",
       "    </tr>\n",
       "    <tr>\n",
       "      <th>3</th>\n",
       "      <td>4</td>\n",
       "      <td>82</td>\n",
       "    </tr>\n",
       "    <tr>\n",
       "      <th>4</th>\n",
       "      <td>5</td>\n",
       "      <td>732</td>\n",
       "    </tr>\n",
       "    <tr>\n",
       "      <th>...</th>\n",
       "      <td>...</td>\n",
       "      <td>...</td>\n",
       "    </tr>\n",
       "    <tr>\n",
       "      <th>119</th>\n",
       "      <td>120</td>\n",
       "      <td>204861</td>\n",
       "    </tr>\n",
       "    <tr>\n",
       "      <th>120</th>\n",
       "      <td>121</td>\n",
       "      <td>204864</td>\n",
       "    </tr>\n",
       "    <tr>\n",
       "      <th>121</th>\n",
       "      <td>122</td>\n",
       "      <td>387</td>\n",
       "    </tr>\n",
       "    <tr>\n",
       "      <th>122</th>\n",
       "      <td>123</td>\n",
       "      <td>204875</td>\n",
       "    </tr>\n",
       "    <tr>\n",
       "      <th>123</th>\n",
       "      <td>124</td>\n",
       "      <td>388</td>\n",
       "    </tr>\n",
       "  </tbody>\n",
       "</table>\n",
       "<p>124 rows × 2 columns</p>\n",
       "</div>"
      ],
      "text/plain": [
       "      id   index\n",
       "0      1    2049\n",
       "1      2     392\n",
       "2      3  203089\n",
       "3      4      82\n",
       "4      5     732\n",
       "..   ...     ...\n",
       "119  120  204861\n",
       "120  121  204864\n",
       "121  122     387\n",
       "122  123  204875\n",
       "123  124     388\n",
       "\n",
       "[124 rows x 2 columns]"
      ]
     },
     "execution_count": 6,
     "metadata": {},
     "output_type": "execute_result"
    }
   ],
   "source": [
    "ssub"
   ]
  },
  {
   "cell_type": "code",
   "execution_count": null,
   "metadata": {},
   "outputs": [],
   "source": []
  }
 ],
 "metadata": {
  "kernelspec": {
   "display_name": "draft",
   "language": "python",
   "name": "python3"
  },
  "language_info": {
   "codemirror_mode": {
    "name": "ipython",
    "version": 3
   },
   "file_extension": ".py",
   "mimetype": "text/x-python",
   "name": "python",
   "nbconvert_exporter": "python",
   "pygments_lexer": "ipython3",
   "version": "3.11.4"
  },
  "orig_nbformat": 4
 },
 "nbformat": 4,
 "nbformat_minor": 2
}
